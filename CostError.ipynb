{
 "cells": [
  {
   "cell_type": "code",
   "execution_count": 43,
   "metadata": {},
   "outputs": [],
   "source": [
    "import pandas as pd\n",
    "import seaborn as sns\n",
    "%matplotlib inline\n",
    "from matplotlib import pyplot as plt\n",
    "import matplotlib.ticker as ticker"
   ]
  },
  {
   "cell_type": "code",
   "execution_count": 44,
   "metadata": {},
   "outputs": [],
   "source": [
    "dt1 = pd.read_csv(\"data/dt1.csv\", delimiter=\";\")\n",
    "dt2 = pd.read_csv(\"data/dt2.csv\", delimiter=\";\")"
   ]
  },
  {
   "cell_type": "code",
   "execution_count": null,
   "metadata": {},
   "outputs": [],
   "source": []
  },
  {
   "cell_type": "code",
   "execution_count": 46,
   "metadata": {},
   "outputs": [
    {
     "data": {
      "text/html": [
       "<div>\n",
       "<style scoped>\n",
       "    .dataframe tbody tr th:only-of-type {\n",
       "        vertical-align: middle;\n",
       "    }\n",
       "\n",
       "    .dataframe tbody tr th {\n",
       "        vertical-align: top;\n",
       "    }\n",
       "\n",
       "    .dataframe thead th {\n",
       "        text-align: right;\n",
       "    }\n",
       "</style>\n",
       "<table border=\"1\" class=\"dataframe\">\n",
       "  <thead>\n",
       "    <tr style=\"text-align: right;\">\n",
       "      <th></th>\n",
       "      <th>time</th>\n",
       "      <th>10e-4</th>\n",
       "      <th>0.01</th>\n",
       "    </tr>\n",
       "  </thead>\n",
       "  <tbody>\n",
       "    <tr>\n",
       "      <th>0</th>\n",
       "      <td>10:11:29,458</td>\n",
       "      <td>1496.464115</td>\n",
       "      <td>1417.144253</td>\n",
       "    </tr>\n",
       "    <tr>\n",
       "      <th>1</th>\n",
       "      <td>10:11:30,337</td>\n",
       "      <td>1180.250040</td>\n",
       "      <td>1159.087446</td>\n",
       "    </tr>\n",
       "    <tr>\n",
       "      <th>2</th>\n",
       "      <td>10:11:31,114</td>\n",
       "      <td>1179.497211</td>\n",
       "      <td>1131.460706</td>\n",
       "    </tr>\n",
       "    <tr>\n",
       "      <th>3</th>\n",
       "      <td>10:11:31,933</td>\n",
       "      <td>1179.115715</td>\n",
       "      <td>1105.564664</td>\n",
       "    </tr>\n",
       "    <tr>\n",
       "      <th>4</th>\n",
       "      <td>10:11:32,816</td>\n",
       "      <td>1178.718811</td>\n",
       "      <td>1079.948417</td>\n",
       "    </tr>\n",
       "  </tbody>\n",
       "</table>\n",
       "</div>"
      ],
      "text/plain": [
       "           time        10e-4         0.01\n",
       "0  10:11:29,458  1496.464115  1417.144253\n",
       "1  10:11:30,337  1180.250040  1159.087446\n",
       "2  10:11:31,114  1179.497211  1131.460706\n",
       "3  10:11:31,933  1179.115715  1105.564664\n",
       "4  10:11:32,816  1178.718811  1079.948417"
      ]
     },
     "execution_count": 46,
     "metadata": {},
     "output_type": "execute_result"
    }
   ],
   "source": [
    "\n",
    "dt1 = pd.concat([dt1, dt2['0.01']], axis=1)\n",
    "# dt1.rename({\"value\":'0.01', ''], })\n",
    "dt1.head()\n",
    "# def dealTime(s):\n",
    "#     return s.split(\",\")[0]\n",
    "\n",
    "# def dealTime2(s):\n",
    "#     return \":\".join(s.split(\":\")[0:2])"
   ]
  },
  {
   "cell_type": "code",
   "execution_count": 47,
   "metadata": {},
   "outputs": [],
   "source": [
    "dt1.time = dt1.time.apply(dealTime)\n",
    "dt1.time = dt1.time.apply(dealTime2)\n",
    "\n",
    "# dt2.time = dt2.time.apply(dealTime)\n",
    "# dt2.time = dt2.time.apply(dealTime2)"
   ]
  },
  {
   "cell_type": "code",
   "execution_count": 49,
   "metadata": {},
   "outputs": [
    {
     "data": {
      "text/html": [
       "<div>\n",
       "<style scoped>\n",
       "    .dataframe tbody tr th:only-of-type {\n",
       "        vertical-align: middle;\n",
       "    }\n",
       "\n",
       "    .dataframe tbody tr th {\n",
       "        vertical-align: top;\n",
       "    }\n",
       "\n",
       "    .dataframe thead th {\n",
       "        text-align: right;\n",
       "    }\n",
       "</style>\n",
       "<table border=\"1\" class=\"dataframe\">\n",
       "  <thead>\n",
       "    <tr style=\"text-align: right;\">\n",
       "      <th></th>\n",
       "      <th>time</th>\n",
       "      <th>10e-4</th>\n",
       "      <th>0.01</th>\n",
       "    </tr>\n",
       "  </thead>\n",
       "  <tbody>\n",
       "    <tr>\n",
       "      <th>4995</th>\n",
       "      <td>11:22</td>\n",
       "      <td>2.083880</td>\n",
       "      <td>0.077945</td>\n",
       "    </tr>\n",
       "    <tr>\n",
       "      <th>4996</th>\n",
       "      <td>11:22</td>\n",
       "      <td>2.083092</td>\n",
       "      <td>0.077919</td>\n",
       "    </tr>\n",
       "    <tr>\n",
       "      <th>4997</th>\n",
       "      <td>11:22</td>\n",
       "      <td>2.082306</td>\n",
       "      <td>0.077893</td>\n",
       "    </tr>\n",
       "    <tr>\n",
       "      <th>4998</th>\n",
       "      <td>11:22</td>\n",
       "      <td>2.081519</td>\n",
       "      <td>0.077867</td>\n",
       "    </tr>\n",
       "    <tr>\n",
       "      <th>4999</th>\n",
       "      <td>11:23</td>\n",
       "      <td>2.080734</td>\n",
       "      <td>0.077841</td>\n",
       "    </tr>\n",
       "  </tbody>\n",
       "</table>\n",
       "</div>"
      ],
      "text/plain": [
       "       time     10e-4      0.01\n",
       "4995  11:22  2.083880  0.077945\n",
       "4996  11:22  2.083092  0.077919\n",
       "4997  11:22  2.082306  0.077893\n",
       "4998  11:22  2.081519  0.077867\n",
       "4999  11:23  2.080734  0.077841"
      ]
     },
     "execution_count": 49,
     "metadata": {},
     "output_type": "execute_result"
    }
   ],
   "source": [
    "dt1.tail()"
   ]
  },
  {
   "cell_type": "code",
   "execution_count": 50,
   "metadata": {},
   "outputs": [],
   "source": [
    "dt1 = dt1.groupby(\"time\").mean()\n",
    "# dt2 = dt2.groupby(\"time\").mean()"
   ]
  },
  {
   "cell_type": "code",
   "execution_count": 51,
   "metadata": {},
   "outputs": [
    {
     "data": {
      "text/html": [
       "<div>\n",
       "<style scoped>\n",
       "    .dataframe tbody tr th:only-of-type {\n",
       "        vertical-align: middle;\n",
       "    }\n",
       "\n",
       "    .dataframe tbody tr th {\n",
       "        vertical-align: top;\n",
       "    }\n",
       "\n",
       "    .dataframe thead th {\n",
       "        text-align: right;\n",
       "    }\n",
       "</style>\n",
       "<table border=\"1\" class=\"dataframe\">\n",
       "  <thead>\n",
       "    <tr style=\"text-align: right;\">\n",
       "      <th></th>\n",
       "      <th>10e-4</th>\n",
       "      <th>0.01</th>\n",
       "    </tr>\n",
       "    <tr>\n",
       "      <th>time</th>\n",
       "      <th></th>\n",
       "      <th></th>\n",
       "    </tr>\n",
       "  </thead>\n",
       "  <tbody>\n",
       "    <tr>\n",
       "      <th>10:11</th>\n",
       "      <td>1159.330368</td>\n",
       "      <td>921.534055</td>\n",
       "    </tr>\n",
       "    <tr>\n",
       "      <th>10:12</th>\n",
       "      <td>1048.705276</td>\n",
       "      <td>532.035368</td>\n",
       "    </tr>\n",
       "    <tr>\n",
       "      <th>10:13</th>\n",
       "      <td>913.950414</td>\n",
       "      <td>415.957982</td>\n",
       "    </tr>\n",
       "    <tr>\n",
       "      <th>10:14</th>\n",
       "      <td>865.178014</td>\n",
       "      <td>321.994233</td>\n",
       "    </tr>\n",
       "    <tr>\n",
       "      <th>10:15</th>\n",
       "      <td>777.669418</td>\n",
       "      <td>255.527133</td>\n",
       "    </tr>\n",
       "  </tbody>\n",
       "</table>\n",
       "</div>"
      ],
      "text/plain": [
       "             10e-4        0.01\n",
       "time                          \n",
       "10:11  1159.330368  921.534055\n",
       "10:12  1048.705276  532.035368\n",
       "10:13   913.950414  415.957982\n",
       "10:14   865.178014  321.994233\n",
       "10:15   777.669418  255.527133"
      ]
     },
     "execution_count": 51,
     "metadata": {},
     "output_type": "execute_result"
    }
   ],
   "source": [
    "dt1.head()"
   ]
  },
  {
   "cell_type": "code",
   "execution_count": 28,
   "metadata": {},
   "outputs": [
    {
     "data": {
      "text/plain": [
       "value    73\n",
       "value    73\n",
       "dtype: int64"
      ]
     },
     "execution_count": 28,
     "metadata": {},
     "output_type": "execute_result"
    }
   ],
   "source": [
    "dt1.count()"
   ]
  },
  {
   "cell_type": "code",
   "execution_count": null,
   "metadata": {},
   "outputs": [],
   "source": []
  },
  {
   "cell_type": "code",
   "execution_count": 55,
   "metadata": {},
   "outputs": [
    {
     "data": {
      "text/html": [
       "<div>\n",
       "<style scoped>\n",
       "    .dataframe tbody tr th:only-of-type {\n",
       "        vertical-align: middle;\n",
       "    }\n",
       "\n",
       "    .dataframe tbody tr th {\n",
       "        vertical-align: top;\n",
       "    }\n",
       "\n",
       "    .dataframe thead th {\n",
       "        text-align: right;\n",
       "    }\n",
       "</style>\n",
       "<table border=\"1\" class=\"dataframe\">\n",
       "  <thead>\n",
       "    <tr style=\"text-align: right;\">\n",
       "      <th></th>\n",
       "      <th>10e-4</th>\n",
       "      <th>0.01</th>\n",
       "    </tr>\n",
       "    <tr>\n",
       "      <th>time</th>\n",
       "      <th></th>\n",
       "      <th></th>\n",
       "    </tr>\n",
       "  </thead>\n",
       "  <tbody>\n",
       "    <tr>\n",
       "      <th>11:19</th>\n",
       "      <td>2.314938</td>\n",
       "      <td>0.085407</td>\n",
       "    </tr>\n",
       "    <tr>\n",
       "      <th>11:20</th>\n",
       "      <td>2.251283</td>\n",
       "      <td>0.083387</td>\n",
       "    </tr>\n",
       "    <tr>\n",
       "      <th>11:21</th>\n",
       "      <td>2.181690</td>\n",
       "      <td>0.081147</td>\n",
       "    </tr>\n",
       "    <tr>\n",
       "      <th>11:22</th>\n",
       "      <td>2.113238</td>\n",
       "      <td>0.078912</td>\n",
       "    </tr>\n",
       "    <tr>\n",
       "      <th>11:23</th>\n",
       "      <td>2.080734</td>\n",
       "      <td>0.077841</td>\n",
       "    </tr>\n",
       "  </tbody>\n",
       "</table>\n",
       "</div>"
      ],
      "text/plain": [
       "          10e-4      0.01\n",
       "time                     \n",
       "11:19  2.314938  0.085407\n",
       "11:20  2.251283  0.083387\n",
       "11:21  2.181690  0.081147\n",
       "11:22  2.113238  0.078912\n",
       "11:23  2.080734  0.077841"
      ]
     },
     "execution_count": 55,
     "metadata": {},
     "output_type": "execute_result"
    }
   ],
   "source": [
    "dt1.tail()"
   ]
  },
  {
   "cell_type": "code",
   "execution_count": 30,
   "metadata": {},
   "outputs": [],
   "source": [
    "# ax = sns.lineplot(x=\"time\", y=\"value\", data=dt1)\n",
    "# ax.figure.set_size_inches(12,6)\n",
    "# ax.set_title(\"Analise da funçao de custo\", loc='left', fontsize=18)\n",
    "# ax.set_xlabel(\"Minutos\", fontsize=14)\n",
    "# ax.set_ylabel(\"Erro\", fontsize=14)\n",
    "# # ax.set(xticklabels=['10:11', \"10:30\", \"10:50\", \"11:00\", \"11:20\"])\n",
    "# # ax.set(xticks=[3, 5, 6, 7, 9], xticklabels=[30, 60, 90, 120, 150])\n",
    "# ax.xaxis.set_major_formatter(ticker.FormatStrFormatter('%d'))\n",
    "# ax.xaxis.set_major_locator(ticker.MultipleLocator(base=20))\n",
    "# plt.show()\n",
    "# ax = ax"
   ]
  },
  {
   "cell_type": "code",
   "execution_count": 31,
   "metadata": {},
   "outputs": [],
   "source": [
    "# ax = sns.lineplot(x=\"time\", y=\"value\", data=dt2)\n",
    "# ax.figure.set_size_inches(12,6)\n",
    "# ax.set_title(\"Analise da funçao de custo\", loc='left', fontsize=18)\n",
    "# ax.set_xlabel(\"Minutos\", fontsize=14)\n",
    "# ax.set_ylabel(\"Erro\", fontsize=14)\n",
    "# # ax.set(xticklabels=['10:11', \"10:30\", \"10:50\", \"11:00\", \"11:20\"])\n",
    "# # ax.set(xticks=[3, 5, 6, 7, 9], xticklabels=[30, 60, 90, 120, 150])\n",
    "# ax.xaxis.set_major_formatter(ticker.FormatStrFormatter('%d'))\n",
    "# ax.xaxis.set_major_locator(ticker.MultipleLocator(base=20))\n",
    "# plt.show()\n",
    "# ax = ax"
   ]
  },
  {
   "cell_type": "code",
   "execution_count": 54,
   "metadata": {},
   "outputs": [
    {
     "data": {
      "image/png": "[encoded data removed]",
      "text/plain": [
       "<Figure size 1152x576 with 1 Axes>"
      ]
     },
     "metadata": {},
     "output_type": "display_data"
    }
   ],
   "source": [
    "plt.subplots(figsize=(16, 8))\n",
    "sns.set(font_scale=1.5)\n",
    "\n",
    "fat = sns.lineplot(data=dt1, dashes=True)\n",
    "fat.set(xlabel='Minutos', ylabel='Erro')\n",
    "fat.set_xlabel(\"Minutos\",fontsize=20)\n",
    "fat.set_ylabel(\"Erro\",fontsize=20)\n",
    "fat.xaxis.set_major_formatter(ticker.FormatStrFormatter('%d'))\n",
    "fat.xaxis.set_major_locator(ticker.MultipleLocator(base=20))\n",
    "\n",
    "\n",
    "# fat.set(xlim=(0, 2))\n",
    "plt.show()"
   ]
  },
  {
   "cell_type": "code",
   "execution_count": null,
   "metadata": {},
   "outputs": [],
   "source": []
  }
 ],
 "metadata": {
  "kernelspec": {
   "display_name": "Python 3",
   "language": "python",
   "name": "python3"
  },
  "language_info": {
   "codemirror_mode": {
    "name": "ipython",
    "version": 3
   },
   "file_extension": ".py",
   "mimetype": "text/x-python",
   "name": "python",
   "nbconvert_exporter": "python",
   "pygments_lexer": "ipython3",
   "version": "3.6.9"
  }
 },
 "nbformat": 4,
 "nbformat_minor": 4
}
